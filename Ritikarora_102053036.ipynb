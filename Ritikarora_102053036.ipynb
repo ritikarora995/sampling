{
  "cells": [
    {
      "cell_type": "code",
      "execution_count": null,
      "metadata": {
        "id": "lOuva9HbRRKR"
      },
      "outputs": [],
      "source": [
        "import numpy as np\n",
        "import pandas as pd\n",
        "import matplotlib.pyplot as plt"
      ]
    },
    {
      "cell_type": "code",
      "execution_count": null,
      "metadata": {
        "id": "Iwa0O0pcRRKZ",
        "outputId": "75d6c3b0-da15-4486-d0ac-d76c839cc977"
      },
      "outputs": [
        {
          "data": {
            "text/plain": [
              "10183"
            ]
          },
          "execution_count": 203,
          "metadata": {},
          "output_type": "execute_result"
        }
      ],
      "source": [
        "df=pd.read_csv('dataset.csv')\n",
        "df.head()\n",
        "sum(df['Unusual'])"
      ]
    },
    {
      "cell_type": "code",
      "execution_count": null,
      "metadata": {
        "id": "j96VG6TuRRKd",
        "outputId": "74d5c5d2-569b-4f91-b380-5e6ea5069eaa"
      },
      "outputs": [
        {
          "data": {
            "text/html": [
              "<div>\n",
              "<style scoped>\n",
              "    .dataframe tbody tr th:only-of-type {\n",
              "        vertical-align: middle;\n",
              "    }\n",
              "\n",
              "    .dataframe tbody tr th {\n",
              "        vertical-align: top;\n",
              "    }\n",
              "\n",
              "    .dataframe thead th {\n",
              "        text-align: right;\n",
              "    }\n",
              "</style>\n",
              "<table border=\"1\" class=\"dataframe\">\n",
              "  <thead>\n",
              "    <tr style=\"text-align: right;\">\n",
              "      <th></th>\n",
              "      <th>PRBUsageUL</th>\n",
              "      <th>PRBUsageDL</th>\n",
              "      <th>meanThr_DL</th>\n",
              "      <th>meanThr_UL</th>\n",
              "      <th>maxThr_DL</th>\n",
              "      <th>maxThr_UL</th>\n",
              "      <th>meanUE_DL</th>\n",
              "      <th>meanUE_UL</th>\n",
              "      <th>maxUE_DL</th>\n",
              "      <th>maxUE_UL</th>\n",
              "      <th>Unusual</th>\n",
              "    </tr>\n",
              "  </thead>\n",
              "  <tbody>\n",
              "    <tr>\n",
              "      <th>0</th>\n",
              "      <td>11.642</td>\n",
              "      <td>1.393</td>\n",
              "      <td>0.370</td>\n",
              "      <td>0.041</td>\n",
              "      <td>15.655</td>\n",
              "      <td>0.644</td>\n",
              "      <td>1.114</td>\n",
              "      <td>1.025</td>\n",
              "      <td>4.0</td>\n",
              "      <td>3.0</td>\n",
              "      <td>1</td>\n",
              "    </tr>\n",
              "    <tr>\n",
              "      <th>1</th>\n",
              "      <td>21.791</td>\n",
              "      <td>1.891</td>\n",
              "      <td>0.537</td>\n",
              "      <td>0.268</td>\n",
              "      <td>10.273</td>\n",
              "      <td>1.154</td>\n",
              "      <td>1.353</td>\n",
              "      <td>1.085</td>\n",
              "      <td>6.0</td>\n",
              "      <td>4.0</td>\n",
              "      <td>1</td>\n",
              "    </tr>\n",
              "    <tr>\n",
              "      <th>2</th>\n",
              "      <td>0.498</td>\n",
              "      <td>0.398</td>\n",
              "      <td>0.015</td>\n",
              "      <td>0.010</td>\n",
              "      <td>0.262</td>\n",
              "      <td>0.164</td>\n",
              "      <td>0.995</td>\n",
              "      <td>0.995</td>\n",
              "      <td>1.0</td>\n",
              "      <td>1.0</td>\n",
              "      <td>1</td>\n",
              "    </tr>\n",
              "    <tr>\n",
              "      <th>3</th>\n",
              "      <td>1.891</td>\n",
              "      <td>1.095</td>\n",
              "      <td>0.940</td>\n",
              "      <td>0.024</td>\n",
              "      <td>60.715</td>\n",
              "      <td>0.825</td>\n",
              "      <td>1.035</td>\n",
              "      <td>0.995</td>\n",
              "      <td>2.0</td>\n",
              "      <td>2.0</td>\n",
              "      <td>1</td>\n",
              "    </tr>\n",
              "    <tr>\n",
              "      <th>4</th>\n",
              "      <td>0.303</td>\n",
              "      <td>0.404</td>\n",
              "      <td>0.016</td>\n",
              "      <td>0.013</td>\n",
              "      <td>0.348</td>\n",
              "      <td>0.168</td>\n",
              "      <td>1.011</td>\n",
              "      <td>1.011</td>\n",
              "      <td>2.0</td>\n",
              "      <td>1.0</td>\n",
              "      <td>0</td>\n",
              "    </tr>\n",
              "  </tbody>\n",
              "</table>\n",
              "</div>"
            ],
            "text/plain": [
              "   PRBUsageUL  PRBUsageDL  meanThr_DL  meanThr_UL  maxThr_DL  maxThr_UL  \\\n",
              "0      11.642       1.393       0.370       0.041     15.655      0.644   \n",
              "1      21.791       1.891       0.537       0.268     10.273      1.154   \n",
              "2       0.498       0.398       0.015       0.010      0.262      0.164   \n",
              "3       1.891       1.095       0.940       0.024     60.715      0.825   \n",
              "4       0.303       0.404       0.016       0.013      0.348      0.168   \n",
              "\n",
              "   meanUE_DL  meanUE_UL  maxUE_DL  maxUE_UL  Unusual  \n",
              "0      1.114      1.025       4.0       3.0        1  \n",
              "1      1.353      1.085       6.0       4.0        1  \n",
              "2      0.995      0.995       1.0       1.0        1  \n",
              "3      1.035      0.995       2.0       2.0        1  \n",
              "4      1.011      1.011       2.0       1.0        0  "
            ]
          },
          "execution_count": 204,
          "metadata": {},
          "output_type": "execute_result"
        }
      ],
      "source": [
        "\n",
        "df.drop(['maxUE_UL+DL','Time','CellName'], axis=1,inplace=True)\n",
        "df.head()"
      ]
    },
    {
      "cell_type": "code",
      "execution_count": null,
      "metadata": {
        "id": "tZSkcYpYRRKf"
      },
      "outputs": [],
      "source": [
        "print('number of missing values')\n",
        "for col in df.columns:\n",
        "    if col not in ['Time','CellName']:\n",
        "        print(col,df[col].isnull().sum())\n",
        "        df[col]=pd.to_numeric(df[col], errors='coerce')\n",
        "df['maxUE_DL'].fillna(value=df['maxUE_DL'].mean(), inplace=True)\n",
        "df['maxUE_UL'].fillna(value=df['maxUE_UL'].mean(), inplace=True)"
      ]
    },
    {
      "cell_type": "code",
      "execution_count": null,
      "metadata": {
        "id": "hrmKQFXnRRKh",
        "outputId": "127f5459-f02a-43a2-99f9-0f9d8ab335e7"
      },
      "outputs": [
        {
          "name": "stdout",
          "output_type": "stream",
          "text": [
            "number of missing values\n",
            "PRBUsageUL 0\n",
            "PRBUsageDL 0\n",
            "meanThr_DL 0\n",
            "meanThr_UL 0\n",
            "maxThr_DL 0\n",
            "maxThr_UL 0\n",
            "meanUE_DL 0\n",
            "meanUE_UL 0\n",
            "maxUE_DL 0\n",
            "maxUE_UL 0\n",
            "Unusual 0\n"
          ]
        }
      ],
      "source": [
        "print('number of missing values')\n",
        "for col in df.columns:\n",
        "    if col not in ['Time','CellName']:\n",
        "        print(col,df[col].isnull().sum())"
      ]
    },
    {
      "cell_type": "code",
      "execution_count": null,
      "metadata": {
        "id": "n3RBp72RRRKi"
      },
      "outputs": [],
      "source": [
        "# for col in df.columns:\n",
        "#     mean=df[col].mean()\n",
        "#     Q1 = np.percentile(df[col], 25,method = 'midpoint')\n",
        " \n",
        "#     Q3 = np.percentile(df[col], 75,method = 'midpoint')\n",
        "#     IQR = Q3 - Q1\n",
        "    \n",
        "#     upper =  Q3+1.5*IQR\n",
        "#     lower = Q1-1.5*IQR\n",
        "#     df.loc[df[col] > upper, col] = mean\n",
        "#     df.loc[df[col] > lower, col] = mean\n",
        "interval = 3\n",
        "sample4 = df.iloc[::interval]\n",
        "sample4['Class'].value_counts() \n"
      ]
    },
    {
      "cell_type": "code",
      "execution_count": null,
      "metadata": {
        "id": "EFxnMpPQRRKj"
      },
      "outputs": [],
      "source": [
        "X=df.iloc[:,:-1]\n",
        "Y=df.iloc[:,-1]"
      ]
    },
    {
      "cell_type": "code",
      "execution_count": null,
      "metadata": {
        "id": "RVF-qWxVRRKk",
        "outputId": "4c5d908d-1e93-4615-bc69-dc6403211787"
      },
      "outputs": [
        {
          "data": {
            "text/plain": [
              "1    26721\n",
              "0    26721\n",
              "Name: Unusual, dtype: int64"
            ]
          },
          "execution_count": 209,
          "metadata": {},
          "output_type": "execute_result"
        }
      ],
      "source": [
        "from imblearn.over_sampling import SMOTE\n",
        "\n",
        "smote = SMOTE(sampling_strategy='minority')\n",
        "X_sm, y_sm = smote.fit_resample(X, Y)\n",
        "\n",
        "y_sm.value_counts()"
      ]
    },
    {
      "cell_type": "code",
      "execution_count": null,
      "metadata": {
        "id": "ZNF1pcYcRRKl"
      },
      "outputs": [],
      "source": [
        "from sklearn.model_selection import train_test_split\n",
        "x_train, x_test, y_train, y_test = train_test_split(X_sm, y_sm, test_size = 0.25, random_state = 0)"
      ]
    },
    {
      "cell_type": "code",
      "execution_count": null,
      "metadata": {
        "id": "7Hv45xjsRRKn"
      },
      "outputs": [],
      "source": [
        "from sklearn.preprocessing import StandardScaler\n",
        "sc = StandardScaler()\n",
        "X_train = sc.fit_transform(x_train)\n",
        "X_test = sc.transform(x_test)\n"
      ]
    },
    {
      "cell_type": "markdown",
      "metadata": {
        "id": "ka3j3bYqRRKn"
      },
      "source": [
        "Logistic Regression"
      ]
    },
    {
      "cell_type": "code",
      "execution_count": null,
      "metadata": {
        "id": "aM-TN3LzRRKq",
        "outputId": "7147e00d-0544-4dbd-c1ce-e7ace4101a3a"
      },
      "outputs": [
        {
          "name": "stdout",
          "output_type": "stream",
          "text": [
            "[[3292 3470]\n",
            " [1633 4966]]\n"
          ]
        },
        {
          "name": "stderr",
          "output_type": "stream",
          "text": [
            "c:\\Users\\DELL\\AppData\\Local\\Programs\\Python\\Python39\\lib\\site-packages\\sklearn\\linear_model\\_logistic.py:814: ConvergenceWarning: lbfgs failed to converge (status=1):\n",
            "STOP: TOTAL NO. of ITERATIONS REACHED LIMIT.\n",
            "\n",
            "Increase the number of iterations (max_iter) or scale the data as shown in:\n",
            "    https://scikit-learn.org/stable/modules/preprocessing.html\n",
            "Please also refer to the documentation for alternative solver options:\n",
            "    https://scikit-learn.org/stable/modules/linear_model.html#logistic-regression\n",
            "  n_iter_i = _check_optimize_result(\n"
          ]
        },
        {
          "data": {
            "text/plain": [
              "0.6180675099169224"
            ]
          },
          "execution_count": 212,
          "metadata": {},
          "output_type": "execute_result"
        }
      ],
      "source": [
        "\n",
        "from sklearn.linear_model import LogisticRegression\n",
        "classifier = LogisticRegression(random_state = 0)\n",
        "classifier.fit(x_train, y_train)\n",
        "\n",
        "\n",
        "y_pred = classifier.predict(x_test)\n",
        "from sklearn.metrics import confusion_matrix, accuracy_score\n",
        "cm = confusion_matrix(y_test, y_pred)\n",
        "print(cm)\n",
        "accuracy_score(y_test, y_pred)"
      ]
    },
    {
      "cell_type": "markdown",
      "metadata": {
        "id": "mU8ZC7cTRRKs"
      },
      "source": [
        "K Nearest Neighbours"
      ]
    },
    {
      "cell_type": "code",
      "execution_count": null,
      "metadata": {
        "id": "15uyay9_RRKs",
        "outputId": "f4d6e613-756a-4683-ce71-acda03bb6b3c"
      },
      "outputs": [
        {
          "name": "stdout",
          "output_type": "stream",
          "text": [
            "[[4715 2047]\n",
            " [1190 5409]]\n"
          ]
        },
        {
          "data": {
            "text/plain": [
              "0.7577277149913929"
            ]
          },
          "execution_count": 213,
          "metadata": {},
          "output_type": "execute_result"
        }
      ],
      "source": [
        "\n",
        "from sklearn.neighbors import KNeighborsClassifier\n",
        "classifier = KNeighborsClassifier(n_neighbors = 5, metric = 'minkowski', p = 2)\n",
        "classifier.fit(X_train, y_train)\n",
        "\n",
        "\n",
        "y_pred = classifier.predict(X_test)\n",
        "\n",
        "from sklearn.metrics import confusion_matrix, accuracy_score\n",
        "cm = confusion_matrix(y_test, y_pred)\n",
        "print(cm)\n",
        "accuracy_score(y_test, y_pred)\n"
      ]
    },
    {
      "cell_type": "markdown",
      "metadata": {
        "id": "FCwwo06IRRKt"
      },
      "source": [
        "Support Vector Machine"
      ]
    },
    {
      "cell_type": "code",
      "execution_count": null,
      "metadata": {
        "id": "3KChDLytRRKu",
        "outputId": "dbe3f9bd-727b-4d07-edae-62b84af5668e"
      },
      "outputs": [
        {
          "name": "stdout",
          "output_type": "stream",
          "text": [
            "[[4599 2163]\n",
            " [1538 5061]]\n"
          ]
        },
        {
          "data": {
            "text/plain": [
              "0.7229997754659082"
            ]
          },
          "execution_count": 214,
          "metadata": {},
          "output_type": "execute_result"
        }
      ],
      "source": [
        "from sklearn.svm import SVC\n",
        "classifier = SVC(kernel = 'rbf', random_state = 0)\n",
        "classifier.fit(X_train, y_train)\n",
        "\n",
        "y_pred = classifier.predict(X_test)\n",
        "# Making the Confusion Matrix\n",
        "from sklearn.metrics import confusion_matrix, accuracy_score\n",
        "cm = confusion_matrix(y_test, y_pred)\n",
        "print(cm)\n",
        "accuracy_score(y_test, y_pred)"
      ]
    },
    {
      "cell_type": "markdown",
      "metadata": {
        "id": "k9cYKcAwRRKv"
      },
      "source": [
        "Naive Bayes"
      ]
    },
    {
      "cell_type": "code",
      "execution_count": null,
      "metadata": {
        "id": "GD-st0qORRKv",
        "outputId": "f5bd19e6-d4c8-43d0-d55b-0aa2b268d04f"
      },
      "outputs": [
        {
          "name": "stdout",
          "output_type": "stream",
          "text": [
            "[[2327 4435]\n",
            " [1206 5393]]\n"
          ]
        },
        {
          "data": {
            "text/plain": [
              "0.577801062794701"
            ]
          },
          "execution_count": 215,
          "metadata": {},
          "output_type": "execute_result"
        }
      ],
      "source": [
        "from sklearn.naive_bayes import GaussianNB\n",
        "classifier = GaussianNB()\n",
        "classifier.fit(X_train, y_train)\n",
        "\n",
        "\n",
        "y_pred = classifier.predict(X_test)\n",
        "\n",
        "from sklearn.metrics import confusion_matrix, accuracy_score\n",
        "cm = confusion_matrix(y_test, y_pred)\n",
        "print(cm)\n",
        "accuracy_score(y_test, y_pred)"
      ]
    },
    {
      "cell_type": "markdown",
      "metadata": {
        "id": "m4PZx-EtRRKw"
      },
      "source": [
        "Decision Tree"
      ]
    },
    {
      "cell_type": "code",
      "execution_count": null,
      "metadata": {
        "id": "rM_HBtcNRRKx",
        "outputId": "83f1c3ee-8936-40f0-d692-54bebe9e9995"
      },
      "outputs": [
        {
          "name": "stdout",
          "output_type": "stream",
          "text": [
            "[[6535  227]\n",
            " [ 237 6362]]\n"
          ]
        },
        {
          "data": {
            "text/plain": [
              "0.9652720604745154"
            ]
          },
          "execution_count": 216,
          "metadata": {},
          "output_type": "execute_result"
        }
      ],
      "source": [
        "from sklearn.tree import DecisionTreeClassifier\n",
        "classifier = DecisionTreeClassifier(criterion = 'entropy', random_state = 0)\n",
        "classifier.fit(X_train, y_train)\n",
        "\n",
        "\n",
        "y_pred = classifier.predict(X_test)\n",
        "\n",
        "\n",
        "from sklearn.metrics import confusion_matrix, accuracy_score\n",
        "cm = confusion_matrix(y_test, y_pred)\n",
        "print(cm)\n",
        "accuracy_score(y_test, y_pred)"
      ]
    },
    {
      "cell_type": "markdown",
      "metadata": {
        "id": "KYTYOx0cRRKy"
      },
      "source": [
        "Random Forest "
      ]
    },
    {
      "cell_type": "code",
      "execution_count": null,
      "metadata": {
        "id": "IXqogbJxRRKy",
        "outputId": "003408e5-b571-4acc-8bd4-546c159ed40d"
      },
      "outputs": [
        {
          "name": "stdout",
          "output_type": "stream",
          "text": [
            "[[6618  144]\n",
            " [ 559 6040]]\n"
          ]
        },
        {
          "data": {
            "text/plain": [
              "0.9473841778310007"
            ]
          },
          "execution_count": 217,
          "metadata": {},
          "output_type": "execute_result"
        }
      ],
      "source": [
        "from sklearn.ensemble import RandomForestClassifier\n",
        "classifier = RandomForestClassifier(n_estimators = 10, criterion = 'entropy', random_state = 0)\n",
        "classifier.fit(X_train, y_train)\n",
        "\n",
        "\n",
        "y_pred = classifier.predict(X_test)\n",
        "\n",
        "from sklearn.metrics import confusion_matrix, accuracy_score\n",
        "cm = confusion_matrix(y_test, y_pred)\n",
        "print(cm)\n",
        "accuracy_score(y_test, y_pred)"
      ]
    },
    {
      "cell_type": "markdown",
      "metadata": {
        "id": "_Rl851QyRRKz"
      },
      "source": [
        "Artifcial Neural Network"
      ]
    },
    {
      "cell_type": "code",
      "execution_count": null,
      "metadata": {
        "id": "9vJ78oJhRRKz",
        "outputId": "1464fdfc-514b-42d9-c5cc-c3b72f736827"
      },
      "outputs": [
        {
          "name": "stdout",
          "output_type": "stream",
          "text": [
            "Epoch 1/100\n",
            "1253/1253 [==============================] - 3s 2ms/step - loss: 0.6736 - accuracy: 0.5771\n",
            "Epoch 2/100\n",
            "1253/1253 [==============================] - 2s 2ms/step - loss: 0.6557 - accuracy: 0.6075\n",
            "Epoch 3/100\n",
            "1253/1253 [==============================] - 2s 2ms/step - loss: 0.6504 - accuracy: 0.6149\n",
            "Epoch 4/100\n",
            "1253/1253 [==============================] - 2s 2ms/step - loss: 0.6451 - accuracy: 0.6249\n",
            "Epoch 5/100\n",
            "1253/1253 [==============================] - 2s 2ms/step - loss: 0.6364 - accuracy: 0.6369\n",
            "Epoch 6/100\n",
            "1253/1253 [==============================] - 2s 2ms/step - loss: 0.6225 - accuracy: 0.6612\n",
            "Epoch 7/100\n",
            "1253/1253 [==============================] - 2s 2ms/step - loss: 0.6101 - accuracy: 0.6773\n",
            "Epoch 8/100\n",
            "1253/1253 [==============================] - 2s 2ms/step - loss: 0.5993 - accuracy: 0.6840\n",
            "Epoch 9/100\n",
            "1253/1253 [==============================] - 2s 2ms/step - loss: 0.5900 - accuracy: 0.6942\n",
            "Epoch 10/100\n",
            "1253/1253 [==============================] - 2s 2ms/step - loss: 0.5827 - accuracy: 0.6989\n",
            "Epoch 11/100\n",
            "1253/1253 [==============================] - 2s 2ms/step - loss: 0.5746 - accuracy: 0.7094\n",
            "Epoch 12/100\n",
            "1253/1253 [==============================] - 2s 2ms/step - loss: 0.5695 - accuracy: 0.7114\n",
            "Epoch 13/100\n",
            "1253/1253 [==============================] - 2s 2ms/step - loss: 0.5661 - accuracy: 0.7146\n",
            "Epoch 14/100\n",
            "1253/1253 [==============================] - 2s 2ms/step - loss: 0.5626 - accuracy: 0.7173\n",
            "Epoch 15/100\n",
            "1253/1253 [==============================] - 2s 2ms/step - loss: 0.5602 - accuracy: 0.7189\n",
            "Epoch 16/100\n",
            "1253/1253 [==============================] - 2s 2ms/step - loss: 0.5579 - accuracy: 0.7193\n",
            "Epoch 17/100\n",
            "1253/1253 [==============================] - 2s 2ms/step - loss: 0.5553 - accuracy: 0.7231\n",
            "Epoch 18/100\n",
            "1253/1253 [==============================] - 2s 2ms/step - loss: 0.5527 - accuracy: 0.7227\n",
            "Epoch 19/100\n",
            "1253/1253 [==============================] - 2s 2ms/step - loss: 0.5511 - accuracy: 0.7243\n",
            "Epoch 20/100\n",
            "1253/1253 [==============================] - 2s 2ms/step - loss: 0.5497 - accuracy: 0.7239\n",
            "Epoch 21/100\n",
            "1253/1253 [==============================] - 2s 2ms/step - loss: 0.5468 - accuracy: 0.7254\n",
            "Epoch 22/100\n",
            "1253/1253 [==============================] - 2s 2ms/step - loss: 0.5459 - accuracy: 0.7257\n",
            "Epoch 23/100\n",
            "1253/1253 [==============================] - 2s 2ms/step - loss: 0.5444 - accuracy: 0.7257\n",
            "Epoch 24/100\n",
            "1253/1253 [==============================] - 2s 2ms/step - loss: 0.5432 - accuracy: 0.7282\n",
            "Epoch 25/100\n",
            "1253/1253 [==============================] - 2s 2ms/step - loss: 0.5418 - accuracy: 0.7272\n",
            "Epoch 26/100\n",
            "1253/1253 [==============================] - 2s 2ms/step - loss: 0.5403 - accuracy: 0.7279\n",
            "Epoch 27/100\n",
            "1253/1253 [==============================] - 2s 2ms/step - loss: 0.5393 - accuracy: 0.7284\n",
            "Epoch 28/100\n",
            "1253/1253 [==============================] - 2s 2ms/step - loss: 0.5372 - accuracy: 0.7303\n",
            "Epoch 29/100\n",
            "1253/1253 [==============================] - 2s 2ms/step - loss: 0.5366 - accuracy: 0.7295\n",
            "Epoch 30/100\n",
            "1253/1253 [==============================] - 2s 2ms/step - loss: 0.5351 - accuracy: 0.7301\n",
            "Epoch 31/100\n",
            "1253/1253 [==============================] - 2s 2ms/step - loss: 0.5337 - accuracy: 0.7307\n",
            "Epoch 32/100\n",
            "1253/1253 [==============================] - 2s 2ms/step - loss: 0.5325 - accuracy: 0.7310\n",
            "Epoch 33/100\n",
            "1253/1253 [==============================] - 2s 2ms/step - loss: 0.5314 - accuracy: 0.7317\n",
            "Epoch 34/100\n",
            "1253/1253 [==============================] - 2s 2ms/step - loss: 0.5311 - accuracy: 0.7325\n",
            "Epoch 35/100\n",
            "1253/1253 [==============================] - 2s 2ms/step - loss: 0.5299 - accuracy: 0.7319\n",
            "Epoch 36/100\n",
            "1253/1253 [==============================] - 2s 2ms/step - loss: 0.5290 - accuracy: 0.7329\n",
            "Epoch 37/100\n",
            "1253/1253 [==============================] - 2s 2ms/step - loss: 0.5276 - accuracy: 0.7335\n",
            "Epoch 38/100\n",
            "1253/1253 [==============================] - 2s 2ms/step - loss: 0.5270 - accuracy: 0.7335\n",
            "Epoch 39/100\n",
            "1253/1253 [==============================] - 2s 2ms/step - loss: 0.5254 - accuracy: 0.7335\n",
            "Epoch 40/100\n",
            "1253/1253 [==============================] - 2s 2ms/step - loss: 0.5250 - accuracy: 0.7344\n",
            "Epoch 41/100\n",
            "1253/1253 [==============================] - 2s 2ms/step - loss: 0.5243 - accuracy: 0.7351\n",
            "Epoch 42/100\n",
            "1253/1253 [==============================] - 2s 2ms/step - loss: 0.5237 - accuracy: 0.7344\n",
            "Epoch 43/100\n",
            "1253/1253 [==============================] - 2s 2ms/step - loss: 0.5227 - accuracy: 0.7341\n",
            "Epoch 44/100\n",
            "1253/1253 [==============================] - 2s 2ms/step - loss: 0.5222 - accuracy: 0.7351\n",
            "Epoch 45/100\n",
            "1253/1253 [==============================] - 2s 2ms/step - loss: 0.5214 - accuracy: 0.7338\n",
            "Epoch 46/100\n",
            "1253/1253 [==============================] - 2s 2ms/step - loss: 0.5203 - accuracy: 0.7354\n",
            "Epoch 47/100\n",
            "1253/1253 [==============================] - 2s 2ms/step - loss: 0.5197 - accuracy: 0.7353\n",
            "Epoch 48/100\n",
            "1253/1253 [==============================] - 2s 2ms/step - loss: 0.5190 - accuracy: 0.7367\n",
            "Epoch 49/100\n",
            "1253/1253 [==============================] - 2s 2ms/step - loss: 0.5186 - accuracy: 0.7354\n",
            "Epoch 50/100\n",
            "1253/1253 [==============================] - 2s 2ms/step - loss: 0.5171 - accuracy: 0.7365\n",
            "Epoch 51/100\n",
            "1253/1253 [==============================] - 2s 2ms/step - loss: 0.5171 - accuracy: 0.7370\n",
            "Epoch 52/100\n",
            "1253/1253 [==============================] - 2s 2ms/step - loss: 0.5161 - accuracy: 0.7376\n",
            "Epoch 53/100\n",
            "1253/1253 [==============================] - 2s 2ms/step - loss: 0.5156 - accuracy: 0.7360\n",
            "Epoch 54/100\n",
            "1253/1253 [==============================] - 2s 2ms/step - loss: 0.5147 - accuracy: 0.7368\n",
            "Epoch 55/100\n",
            "1253/1253 [==============================] - 2s 2ms/step - loss: 0.5140 - accuracy: 0.7379\n",
            "Epoch 56/100\n",
            "1253/1253 [==============================] - 2s 2ms/step - loss: 0.5135 - accuracy: 0.7391\n",
            "Epoch 57/100\n",
            "1253/1253 [==============================] - 2s 2ms/step - loss: 0.5133 - accuracy: 0.7390\n",
            "Epoch 58/100\n",
            "1253/1253 [==============================] - 2s 2ms/step - loss: 0.5133 - accuracy: 0.7395\n",
            "Epoch 59/100\n",
            "1253/1253 [==============================] - 2s 2ms/step - loss: 0.5128 - accuracy: 0.7403\n",
            "Epoch 60/100\n",
            "1253/1253 [==============================] - 2s 2ms/step - loss: 0.5123 - accuracy: 0.7411\n",
            "Epoch 61/100\n",
            "1253/1253 [==============================] - 2s 2ms/step - loss: 0.5114 - accuracy: 0.7415\n",
            "Epoch 62/100\n",
            "1253/1253 [==============================] - 2s 2ms/step - loss: 0.5115 - accuracy: 0.7410\n",
            "Epoch 63/100\n",
            "1253/1253 [==============================] - 2s 2ms/step - loss: 0.5108 - accuracy: 0.7414\n",
            "Epoch 64/100\n",
            "1253/1253 [==============================] - 2s 2ms/step - loss: 0.5103 - accuracy: 0.7426\n",
            "Epoch 65/100\n",
            "1253/1253 [==============================] - 2s 2ms/step - loss: 0.5099 - accuracy: 0.7432\n",
            "Epoch 66/100\n",
            "1253/1253 [==============================] - 2s 2ms/step - loss: 0.5096 - accuracy: 0.7419\n",
            "Epoch 67/100\n",
            "1253/1253 [==============================] - 2s 2ms/step - loss: 0.5099 - accuracy: 0.7419\n",
            "Epoch 68/100\n",
            "1253/1253 [==============================] - 2s 2ms/step - loss: 0.5085 - accuracy: 0.7430\n",
            "Epoch 69/100\n",
            "1253/1253 [==============================] - 2s 2ms/step - loss: 0.5080 - accuracy: 0.7422\n",
            "Epoch 70/100\n",
            "1253/1253 [==============================] - 2s 2ms/step - loss: 0.5080 - accuracy: 0.7444\n",
            "Epoch 71/100\n",
            "1253/1253 [==============================] - 2s 2ms/step - loss: 0.5081 - accuracy: 0.7427\n",
            "Epoch 72/100\n",
            "1253/1253 [==============================] - 2s 2ms/step - loss: 0.5077 - accuracy: 0.7414\n",
            "Epoch 73/100\n",
            "1253/1253 [==============================] - 2s 2ms/step - loss: 0.5083 - accuracy: 0.7429\n",
            "Epoch 74/100\n",
            "1253/1253 [==============================] - 2s 2ms/step - loss: 0.5075 - accuracy: 0.7434\n",
            "Epoch 75/100\n",
            "1253/1253 [==============================] - 2s 2ms/step - loss: 0.5068 - accuracy: 0.7447\n",
            "Epoch 76/100\n",
            "1253/1253 [==============================] - 2s 2ms/step - loss: 0.5074 - accuracy: 0.7442\n",
            "Epoch 77/100\n",
            "1253/1253 [==============================] - 2s 2ms/step - loss: 0.5063 - accuracy: 0.7438\n",
            "Epoch 78/100\n",
            "1253/1253 [==============================] - 2s 2ms/step - loss: 0.5061 - accuracy: 0.7432\n",
            "Epoch 79/100\n",
            "1253/1253 [==============================] - 2s 2ms/step - loss: 0.5053 - accuracy: 0.7446\n",
            "Epoch 80/100\n",
            "1253/1253 [==============================] - 2s 2ms/step - loss: 0.5052 - accuracy: 0.7433\n",
            "Epoch 81/100\n",
            "1253/1253 [==============================] - 2s 2ms/step - loss: 0.5040 - accuracy: 0.7457\n",
            "Epoch 82/100\n",
            "1253/1253 [==============================] - 2s 2ms/step - loss: 0.5036 - accuracy: 0.7437\n",
            "Epoch 83/100\n",
            "1253/1253 [==============================] - 2s 2ms/step - loss: 0.5036 - accuracy: 0.7431\n",
            "Epoch 84/100\n",
            "1253/1253 [==============================] - 2s 2ms/step - loss: 0.5031 - accuracy: 0.7442\n",
            "Epoch 85/100\n",
            "1253/1253 [==============================] - 2s 2ms/step - loss: 0.5029 - accuracy: 0.7450\n",
            "Epoch 86/100\n",
            "1253/1253 [==============================] - 2s 2ms/step - loss: 0.5024 - accuracy: 0.7446\n",
            "Epoch 87/100\n",
            "1253/1253 [==============================] - 2s 2ms/step - loss: 0.5019 - accuracy: 0.7459\n",
            "Epoch 88/100\n",
            "1253/1253 [==============================] - 2s 2ms/step - loss: 0.5014 - accuracy: 0.7445\n",
            "Epoch 89/100\n",
            "1253/1253 [==============================] - 2s 2ms/step - loss: 0.5013 - accuracy: 0.7459\n",
            "Epoch 90/100\n",
            "1253/1253 [==============================] - 2s 2ms/step - loss: 0.5020 - accuracy: 0.7457\n",
            "Epoch 91/100\n",
            "1253/1253 [==============================] - 2s 2ms/step - loss: 0.5002 - accuracy: 0.7449\n",
            "Epoch 92/100\n",
            "1253/1253 [==============================] - 2s 2ms/step - loss: 0.5013 - accuracy: 0.7475\n",
            "Epoch 93/100\n",
            "1253/1253 [==============================] - 2s 2ms/step - loss: 0.5005 - accuracy: 0.7456\n",
            "Epoch 94/100\n",
            "1253/1253 [==============================] - 2s 2ms/step - loss: 0.4999 - accuracy: 0.7468\n",
            "Epoch 95/100\n",
            "1253/1253 [==============================] - 2s 2ms/step - loss: 0.4997 - accuracy: 0.7462\n",
            "Epoch 96/100\n",
            "1253/1253 [==============================] - 2s 2ms/step - loss: 0.5001 - accuracy: 0.7465\n",
            "Epoch 97/100\n",
            "1253/1253 [==============================] - 2s 2ms/step - loss: 0.4993 - accuracy: 0.7452\n",
            "Epoch 98/100\n",
            "1253/1253 [==============================] - 2s 2ms/step - loss: 0.4993 - accuracy: 0.7452\n",
            "Epoch 99/100\n",
            "1253/1253 [==============================] - 2s 2ms/step - loss: 0.4981 - accuracy: 0.7473\n",
            "Epoch 100/100\n",
            "1253/1253 [==============================] - 2s 2ms/step - loss: 0.4990 - accuracy: 0.7464\n"
          ]
        },
        {
          "data": {
            "text/plain": [
              "<keras.callbacks.History at 0x26de181f4c0>"
            ]
          },
          "execution_count": 218,
          "metadata": {},
          "output_type": "execute_result"
        }
      ],
      "source": [
        "import tensorflow as tf\n",
        "ann = tf.keras.models.Sequential()\n",
        "\n",
        "# Adding the input layer and the first hidden layer\n",
        "ann.add(tf.keras.layers.Dense(units=6, activation='relu'))\n",
        "\n",
        "# Adding the second hidden layer\n",
        "ann.add(tf.keras.layers.Dense(units=6, activation='relu'))\n",
        "\n",
        "# Adding the output layer\n",
        "ann.add(tf.keras.layers.Dense(units=1, activation='sigmoid'))\n",
        "\n",
        "# Part 3 - Training the ANN\n",
        "\n",
        "# Compiling the ANN\n",
        "ann.compile(optimizer = 'adam', loss = 'binary_crossentropy', metrics = ['accuracy'])\n",
        "\n",
        "# Training the ANN on the Training set\n",
        "ann.fit(X_train, y_train, batch_size = 32, epochs = 100)"
      ]
    },
    {
      "cell_type": "code",
      "execution_count": null,
      "metadata": {
        "id": "NNR_cT6uRRK0",
        "outputId": "3b005c51-f7c1-4e1d-8f93-19a193119625"
      },
      "outputs": [
        {
          "name": "stdout",
          "output_type": "stream",
          "text": [
            "418/418 [==============================] - 1s 1ms/step\n",
            "[[5212 1550]\n",
            " [2003 4596]]\n"
          ]
        },
        {
          "data": {
            "text/plain": [
              "0.7340767906593818"
            ]
          },
          "execution_count": 219,
          "metadata": {},
          "output_type": "execute_result"
        }
      ],
      "source": [
        "y_pred = ann.predict(X_test)\n",
        "y_pred = (y_pred > 0.5)\n",
        "\n",
        "from sklearn.metrics import confusion_matrix, accuracy_score\n",
        "cm = confusion_matrix(y_test, y_pred)\n",
        "print(cm)\n",
        "accuracy_score(y_test, y_pred)"
      ]
    }
  ],
  "metadata": {
    "kernelspec": {
      "display_name": "Python 3",
      "language": "python",
      "name": "python3"
    },
    "language_info": {
      "codemirror_mode": {
        "name": "ipython",
        "version": 3
      },
      "file_extension": ".py",
      "mimetype": "text/x-python",
      "name": "python",
      "nbconvert_exporter": "python",
      "pygments_lexer": "ipython3",
      "version": "3.9.6 (tags/v3.9.6:db3ff76, Jun 28 2021, 15:26:21) [MSC v.1929 64 bit (AMD64)]"
    },
    "orig_nbformat": 4,
    "vscode": {
      "interpreter": {
        "hash": "5addf786bcd861d1ce5006f23111f8cbb206731e5b61b0a5632ba9e0252558a8"
      }
    },
    "colab": {
      "provenance": []
    }
  },
  "nbformat": 4,
  "nbformat_minor": 0
}